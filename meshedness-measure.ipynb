{
 "cells": [
  {
   "cell_type": "markdown",
   "id": "82f70f1d-b5ab-4f7c-9c4d-f0843fe25172",
   "metadata": {},
   "source": [
    "# Importing libraries and loading MATSim XML network"
   ]
  },
  {
   "cell_type": "code",
   "execution_count": null,
   "id": "e051784f-6cf8-400f-b581-430ab466ebd6",
   "metadata": {},
   "outputs": [],
   "source": [
    "import matsim # for this to work, downgrade your installation of protobuf: `pip install protobuf==3.20.*`\n",
    "import pandas as pd\n",
    "from collections import defaultdict\n",
    "import shapely\n",
    "import numpy as np\n",
    "import pydeck as pdk\n",
    "\n",
    "import os\n",
    "os.environ['USE_PYGEOS'] = '0'\n",
    "\n",
    "import geopandas as gpd\n",
    "import networkx as nx\n",
    "import momepy\n",
    "\n",
    "import matplotlib.pyplot as plt\n",
    "from matplotlib import cm\n",
    "from matplotlib.colors import LinearSegmentedColormap\n",
    "\n",
    "%matplotlib inline\n",
    "\n",
    "# pip install matsim-tools pandas shapely numpy pydeck geopandas networkx momepy matplotlib"
   ]
  },
  {
   "cell_type": "markdown",
   "id": "18df8073-d056-4439-92b8-f5fcb228c5ca",
   "metadata": {},
   "source": [
    "Load the MATSim network (cleaned then simplified beforehand) and check what we get: \n",
    "\n",
    "*Note: find out what CRS the network is referenced to. It should be specified at the cleaning/simplification stage. We'll need this info later*"
   ]
  },
  {
   "cell_type": "code",
   "execution_count": null,
   "id": "bf5c9822-3bc4-445f-a4dc-fd1c900599f2",
   "metadata": {},
   "outputs": [],
   "source": [
    "# change path to the net before loading\n",
    "net = matsim.read_network('/Users/jackminster/Documents/matsim-example-project/scenarios/auckland/output/auckland-simplified.xml')"
   ]
  },
  {
   "cell_type": "code",
   "execution_count": null,
   "id": "bed67b69-1a63-457b-92b6-084b320d89e4",
   "metadata": {},
   "outputs": [],
   "source": [
    "type(net) # it's pretty much just a couple of dataframes"
   ]
  },
  {
   "cell_type": "code",
   "execution_count": null,
   "id": "cd4f1f96-7a7a-4eb4-aa82-71442e0d5a2a",
   "metadata": {
    "tags": []
   },
   "outputs": [],
   "source": [
    "dir(net) # for a list of all accessible methods/attributes"
   ]
  },
  {
   "cell_type": "code",
   "execution_count": null,
   "id": "c09c0e0c-cbfa-4cc1-99ca-134be742fb6a",
   "metadata": {},
   "outputs": [],
   "source": [
    "# optionally inspect the imported network df: \n",
    "net.links.head(5) # can also check net.nodes"
   ]
  },
  {
   "cell_type": "markdown",
   "id": "a7ca39ad-0c00-441e-9062-c546f6df47dd",
   "metadata": {},
   "source": [
    "Using the matsim-python package, we convert to a GeoDataFrame represenatation with LINESTRING geometry, with one for each link: "
   ]
  },
  {
   "cell_type": "code",
   "execution_count": null,
   "id": "c3445293-449a-4b96-a084-3781479fdcb3",
   "metadata": {},
   "outputs": [],
   "source": [
    "# convert to GeoDataFrame\n",
    "geo = net.as_geo()"
   ]
  },
  {
   "cell_type": "code",
   "execution_count": null,
   "id": "8ac27105-ecb7-4b2f-b6c4-65bec6b0fa99",
   "metadata": {},
   "outputs": [],
   "source": [
    "geo.head(5)"
   ]
  },
  {
   "cell_type": "markdown",
   "id": "1fedba5c-fc8a-49a8-b864-df90a2a140e2",
   "metadata": {},
   "source": [
    "# Transforming CRS and extracting coordinates to display network links"
   ]
  },
  {
   "cell_type": "markdown",
   "id": "2cadaea7-7dae-453a-bd78-6e1e77b3c421",
   "metadata": {},
   "source": [
    "pydeck is unhappy with anything other than EPSG:4326 (WGS84) - so we create a *copy* of the GeoDataFrame in this CRS to appease it (only for plotting purposes): "
   ]
  },
  {
   "cell_type": "code",
   "execution_count": null,
   "id": "e6a46966-8799-4ea4-bfd9-cf5e488436a4",
   "metadata": {},
   "outputs": [],
   "source": [
    "# The network was generated in EPSG:27200, so we set that attribute first: \n",
    "geo = geo.set_crs('EPSG:27200')\n",
    "\n",
    "# create a copy, transformed to EPSG:4326 (WGS84):\n",
    "geo_4326 = geo.to_crs('EPSG:4326')"
   ]
  },
  {
   "cell_type": "markdown",
   "id": "cce05f6e-7c4b-4c1d-87d7-ec73ee982459",
   "metadata": {},
   "source": [
    "pydeck is also unhappy with shapely LINESTRING geometries, so this function (shamelessly ripped from SO) extracts the *start* and *end* coordinates of each LINESTRING into a list that looks like `[[x1, y1], [x2, y2]]`. We extract this info for every LINESTRING in the `geometry` column of our df using `apply` in the next block. The new coordinate pair list is stored in a column called `coord_list`, which we can then feed to pydeck to create a `PathLayer`."
   ]
  },
  {
   "cell_type": "code",
   "execution_count": null,
   "id": "67c944ae-e958-43b8-bd49-1df75f6d6715",
   "metadata": {},
   "outputs": [],
   "source": [
    "# from https://stackoverflow.com/questions/69305911/plot-linestring-z-from-geodataframe-using-pydecks-pathlayer-or-triplayer\n",
    "# This is to translate the LINESTRING geometry to [start, end] points to give to the Pydeck 'Path' type layer\n",
    "def my_geom_coord_extractor(input_geom):\n",
    "    if (input_geom is None) or (input_geom is np.nan):\n",
    "        return []\n",
    "    else:\n",
    "        if input_geom.geom_type[:len('multi')].lower() == 'multi':\n",
    "            full_coord_list = []\n",
    "            for geom_part in input_geom.geoms:\n",
    "                geom_part_2d_coords = [[coord[0],coord[1]] for coord in list(geom_part.coords)]\n",
    "                full_coord_list.append(geom_part_2d_coords)\n",
    "        else:\n",
    "            full_coord_list = [[coord[0],coord[1]] for coord in list(input_geom.coords)]\n",
    "        return full_coord_list"
   ]
  },
  {
   "cell_type": "code",
   "execution_count": null,
   "id": "cab3102e-7d6c-4edc-a54d-a43d761b80e6",
   "metadata": {},
   "outputs": [],
   "source": [
    "%%time\n",
    "geo_4326['coord_list'] = geo_4326['geometry'].apply(my_geom_coord_extractor)"
   ]
  },
  {
   "cell_type": "code",
   "execution_count": null,
   "id": "224850e8-7a44-4031-87e5-8ba22459aec1",
   "metadata": {},
   "outputs": [],
   "source": [
    "geo_4326.head(3)"
   ]
  },
  {
   "cell_type": "markdown",
   "id": "aebf3996-3862-4c13-ba4b-99b95171b36c",
   "metadata": {},
   "source": [
    "Take the convex hull of all the geometries, which creates the smallest polygon which covers every one of the LINESTRINGS in the `geometry` column. We use this to centre the viewport of the pydeck visualisation: "
   ]
  },
  {
   "cell_type": "code",
   "execution_count": null,
   "id": "29d021ac-b959-4fa3-8027-82ba4679f3ba",
   "metadata": {},
   "outputs": [],
   "source": [
    "geo_4326_poly = geo_4326.unary_union.convex_hull"
   ]
  },
  {
   "cell_type": "code",
   "execution_count": null,
   "id": "c99eaac4-3fca-42ce-9d96-eb459503b6cc",
   "metadata": {},
   "outputs": [],
   "source": [
    "# Establishing the default view for the pydeck output\n",
    "view_state = pdk.ViewState(latitude=geo_4326_poly.centroid.coords[0][1], \n",
    "                           longitude=geo_4326_poly.centroid.coords[0][0], \n",
    "                           zoom=4)"
   ]
  },
  {
   "cell_type": "markdown",
   "id": "5eb9f6bb-7bee-47da-90ef-a3b54b467213",
   "metadata": {},
   "source": [
    "Create a layer to be rendered in `pydeck`. It can render multiple layers at once. There are many different types of layers available, check out the deck.gl [documentation](https://deck.gl/docs/api-reference/layers#layer-catalog-overview) for examples. In this block, we create a `PathLayer` ([docs here](https://pydeck.gl/gallery/path_layer.html)) which will be used to render all of the *links* in the network (later when we create a `Deck`):"
   ]
  },
  {
   "cell_type": "code",
   "execution_count": null,
   "id": "d56ced47-3476-4f08-9bf3-15de387b134e",
   "metadata": {},
   "outputs": [],
   "source": [
    "%%time\n",
    "links_layer = pdk.Layer(\n",
    "    type=\"PathLayer\",\n",
    "    data=geo_4326,\n",
    "    pickable=True,\n",
    "    get_color='lightgrey', \n",
    "    opacity=0.5,\n",
    "    # get_color=[153, 153, 255], \n",
    "    width_scale=15,\n",
    "    width_min_pixels=2,\n",
    "    get_path=\"coord_list\",\n",
    "    get_width=0.5,\n",
    ")"
   ]
  },
  {
   "cell_type": "markdown",
   "id": "1622dedd-e80b-4db1-865b-f02d16eb660e",
   "metadata": {
    "tags": []
   },
   "source": [
    "# Computing graph measures"
   ]
  },
  {
   "cell_type": "markdown",
   "id": "3ed851e2-84c9-408c-842e-8e6f1ecae861",
   "metadata": {},
   "source": [
    "To compute graph measures we use `momepy` ([momeypy user guide](http://docs.momepy.org/en/stable/user_guide/intro.html)), which is part of the [PySAL](https://github.com/pysal/pysal) project.\n",
    "\n",
    "First we convert the GeoDataFrame to a NetworkX [`MultiDiGraph`](https://networkx.org/documentation/networkx-1.10/reference/classes.multidigraph.html): "
   ]
  },
  {
   "cell_type": "code",
   "execution_count": null,
   "id": "c158bdcc-f003-42e4-9e8e-fadded13b95e",
   "metadata": {},
   "outputs": [],
   "source": [
    "G = momepy.gdf_to_nx(geo, approach='primal', directed=True) # in EPSG:27200, or whatever your initial network is in. This was set earlier.\n",
    "type(G)"
   ]
  },
  {
   "cell_type": "markdown",
   "id": "3cffd8ca-281b-4200-9b5b-3df8aa4cdccc",
   "metadata": {},
   "source": [
    "We compute the [meshedness](http://docs.momepy.org/en/stable/generated/momepy.meshedness.html) of each node in the graph. The `meshedness` value is stored as a new attribute for each of the nodes in the network `G`. The attribute is called `meshedness400` (computed for each node at a radius of 400m) and will be extracted when we convert back to `GeoDataFrame` representation for plotting: "
   ]
  },
  {
   "cell_type": "code",
   "execution_count": null,
   "id": "6d2983ae-f001-43ba-8994-a475ba274248",
   "metadata": {},
   "outputs": [],
   "source": [
    "%%time\n",
    "G = momepy.meshedness(G, radius=400, name='meshedness400',\n",
    "                          distance='mm_len')\n",
    "# For progress bar: \n",
    "# https://stackoverflow.com/questions/57343134/jupyter-notebooks-not-displaying-progress-bars\n",
    "# jupyter nbextension enable --py widgetsnbextension\n",
    "# jupyter labextension install @jupyter-widgets/jupyterlab-manager"
   ]
  },
  {
   "cell_type": "markdown",
   "id": "cf294ec2-83d8-42aa-b8fe-ce8de9628ef4",
   "metadata": {},
   "source": [
    "We convert from NetworkX graph back to GeoDataFrame for plotting, noting that we are still referenced to EPSG:27200:"
   ]
  },
  {
   "cell_type": "code",
   "execution_count": null,
   "id": "f917f7b8-7d59-4789-9222-c8600e5d4062",
   "metadata": {},
   "outputs": [],
   "source": [
    "nodes = momepy.nx_to_gdf(G, points=True, lines=False, spatial_weights=False)"
   ]
  },
  {
   "cell_type": "markdown",
   "id": "d4dc2de4-1851-46cf-8d2e-8cd9c7f02de2",
   "metadata": {},
   "source": [
    "Make a quick static plot to check whether it's worth showing the measure on a `deck`:"
   ]
  },
  {
   "cell_type": "code",
   "execution_count": null,
   "id": "94e7566c-8360-4315-8c13-e14c6619d991",
   "metadata": {},
   "outputs": [],
   "source": [
    "f, ax = plt.subplots(figsize=(10, 10))\n",
    "nodes.plot(ax=ax, column='meshedness400', markersize=2, legend=True, cmap='viridis',\n",
    "           scheme='quantiles', alpha=0.5, zorder=2)\n",
    "geo.plot(ax=ax, color='lightgrey', alpha=0.5, zorder=1)\n",
    "ax.set_axis_off()\n",
    "plt.show()"
   ]
  },
  {
   "cell_type": "markdown",
   "id": "4b4a3886-ec57-4326-93c6-81f92da27d44",
   "metadata": {},
   "source": [
    "# Showing the measure on a `deck`"
   ]
  },
  {
   "cell_type": "markdown",
   "id": "d1004499-52e6-40d9-bdfd-9ea86a4613c6",
   "metadata": {},
   "source": [
    "We already generated a layer for our deck called `links_layer`, which will show us the network links. Note that it was generated using the `geo_4326` GeoDataFrame, whose geometry was transformed to EPSG:4326. We will do the same thing to our `nodes` before creating a `ScatterPlotLayer` for our final `deck`:"
   ]
  },
  {
   "cell_type": "code",
   "execution_count": null,
   "id": "8dc406b9-9ef2-46de-b397-afc2c136e9e1",
   "metadata": {},
   "outputs": [],
   "source": [
    "nodes_4326 = nodes.to_crs('EPSG:4326')\n",
    "nodes_4326.crs"
   ]
  },
  {
   "cell_type": "markdown",
   "id": "cdf008a5-e934-41fa-aeca-230da8deb1c3",
   "metadata": {},
   "source": [
    "Inspect the `nodes_4326` GeoDataFrame and note the column names, which we will access when creating our new layer:"
   ]
  },
  {
   "cell_type": "code",
   "execution_count": null,
   "id": "cdb50a51-9900-444a-a819-a1f106a066eb",
   "metadata": {},
   "outputs": [],
   "source": [
    "nodes_4326.head(3)"
   ]
  },
  {
   "cell_type": "code",
   "execution_count": null,
   "id": "af4e9648-5914-4588-b4c2-6580d4a47c8a",
   "metadata": {},
   "outputs": [],
   "source": [
    "cmap_custom = cm.get_cmap(cm.viridis_r, nodes.meshedness400)\n",
    "# scheme='quantiles', alpha=0.5, zorder=2\n",
    "\n",
    "def color_to_rgb(color): \n",
    "    rgba_list = cmap_custom.__call__(color)\n",
    "    return tuple([int(val*255) for val in rgba_list][:-1])"
   ]
  },
  {
   "cell_type": "code",
   "execution_count": null,
   "id": "1931d7a9-fbb3-43aa-bc51-c80fb8486f2a",
   "metadata": {},
   "outputs": [],
   "source": [
    "nodes_4326['color'] = nodes['meshedness400'].apply(color_to_rgb)\n",
    "nodes_4326.head(3)"
   ]
  },
  {
   "cell_type": "code",
   "execution_count": null,
   "id": "4663c5e1-ffe2-4b37-8e69-23c386a85f1a",
   "metadata": {},
   "outputs": [],
   "source": [
    "scatter_layer = pdk.Layer(\n",
    "    \"ScatterplotLayer\",\n",
    "    nodes_4326,\n",
    "    pickable=True,\n",
    "    opacity=0.5,\n",
    "    stroked=False,\n",
    "    filled=True,\n",
    "    radius_scale=20,\n",
    "    radius_min_pixels=1,\n",
    "    radius_max_pixels=100,\n",
    "    line_width_min_pixels=1,\n",
    "    get_position=\"geometry.coordinates\", \n",
    "    # get_radius=\"degree\",\n",
    "    get_fill_color=\"color\",\n",
    "    get_line_color=[0, 0, 0],\n",
    ")"
   ]
  },
  {
   "cell_type": "code",
   "execution_count": null,
   "id": "ee231f11-6965-45d3-9de0-a462dc4b5e6a",
   "metadata": {},
   "outputs": [],
   "source": [
    "r = pdk.Deck(layers=[links_layer, scatter_layer], initial_view_state=view_state, tooltip={\"text\": \"{meshedness400}\"})"
   ]
  },
  {
   "cell_type": "code",
   "execution_count": null,
   "id": "6b671f62-9569-4499-ad17-29efa74b316c",
   "metadata": {},
   "outputs": [],
   "source": [
    "r.to_html(\"path_layer.html\")"
   ]
  }
 ],
 "metadata": {
  "kernelspec": {
   "display_name": "pydeck-kernel",
   "language": "python",
   "name": "pydeck-kernel"
  },
  "language_info": {
   "codemirror_mode": {
    "name": "ipython",
    "version": 3
   },
   "file_extension": ".py",
   "mimetype": "text/x-python",
   "name": "python",
   "nbconvert_exporter": "python",
   "pygments_lexer": "ipython3",
   "version": "3.10.6"
  }
 },
 "nbformat": 4,
 "nbformat_minor": 5
}
